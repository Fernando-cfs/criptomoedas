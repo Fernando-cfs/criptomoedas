{
  "nbformat": 4,
  "nbformat_minor": 0,
  "metadata": {
    "colab": {
      "provenance": [],
      "include_colab_link": true
    },
    "kernelspec": {
      "name": "python3",
      "display_name": "Python 3"
    },
    "language_info": {
      "name": "python"
    }
  },
  "cells": [
    {
      "cell_type": "markdown",
      "metadata": {
        "id": "view-in-github",
        "colab_type": "text"
      },
      "source": [
        "<a href=\"https://colab.research.google.com/github/Fernando-cfs/criptomoedas/blob/main/analisecriptomoedas.ipynb\" target=\"_parent\"><img src=\"https://colab.research.google.com/assets/colab-badge.svg\" alt=\"Open In Colab\"/></a>"
      ]
    },
    {
      "cell_type": "code",
      "source": [
        "import pandas as pd"
      ],
      "metadata": {
        "id": "F-_ydIrSs3Ob"
      },
      "execution_count": null,
      "outputs": []
    },
    {
      "cell_type": "markdown",
      "source": [
        "# Importação e tratamento dos dados"
      ],
      "metadata": {
        "id": "w3MF_YYxx6ML"
      }
    },
    {
      "cell_type": "markdown",
      "source": [
        "- Importação dos 10 pares de moedas"
      ],
      "metadata": {
        "id": "xc0AyF4kyGdv"
      }
    },
    {
      "cell_type": "code",
      "execution_count": null,
      "metadata": {
        "id": "XBTeVt_lrbfu"
      },
      "outputs": [],
      "source": [
        "url ='https://github.com/Fernando-cfs/criptomoedas/raw/main/archive/coin_Aave.csv'\n",
        "\n",
        "aave = pd.read_csv(url)\n",
        "aave"
      ]
    },
    {
      "cell_type": "code",
      "source": [
        "url = 'https://github.com/Fernando-cfs/criptomoedas/raw/main/archive/coin_BinanceCoin.csv'\n",
        "binance = pd.read_csv(url)\n",
        "binance\n"
      ],
      "metadata": {
        "id": "Q33NHAzBt-RK"
      },
      "execution_count": null,
      "outputs": []
    },
    {
      "cell_type": "code",
      "source": [
        "url = 'https://github.com/Fernando-cfs/criptomoedas/raw/main/archive/coin_BinanceCoin.csv'\n",
        "bit = pd.read_csv(url)\n",
        "bit"
      ],
      "metadata": {
        "id": "Jiiw8kRxu5T_"
      },
      "execution_count": null,
      "outputs": []
    },
    {
      "cell_type": "code",
      "source": [
        "url = 'https://github.com/Fernando-cfs/criptomoedas/raw/main/archive/coin_Cardano.csv'\n",
        "cardano = pd.read_csv(url)\n",
        "cardano"
      ],
      "metadata": {
        "id": "r64We1e4u9W2"
      },
      "execution_count": null,
      "outputs": []
    },
    {
      "cell_type": "code",
      "source": [
        "url = 'https://github.com/Fernando-cfs/criptomoedas/raw/main/archive/coin_ChainLink.csv'\n",
        "chain = pd.read_csv(url)\n",
        "chain"
      ],
      "metadata": {
        "id": "dg-VyEhQu-OE"
      },
      "execution_count": 41,
      "outputs": []
    },
    {
      "cell_type": "code",
      "source": [
        "url = 'https://github.com/Fernando-cfs/criptomoedas/raw/main/archive/coin_Cosmos.csv'\n",
        "cosmo = pd.read_csv(url)\n",
        "cosmo"
      ],
      "metadata": {
        "id": "HAnWflVFu_TC"
      },
      "execution_count": null,
      "outputs": []
    },
    {
      "cell_type": "code",
      "source": [
        "url = 'https://github.com/Fernando-cfs/criptomoedas/raw/main/archive/coin_CryptocomCoin.csv'\n",
        "crypto = pd.read_csv(url)\n",
        "crypto"
      ],
      "metadata": {
        "id": "4g1-jfQ5u_97"
      },
      "execution_count": null,
      "outputs": []
    },
    {
      "cell_type": "code",
      "source": [
        "url = 'https://github.com/Fernando-cfs/criptomoedas/raw/main/archive/coin_Dogecoin.csv'\n",
        "dogecoin = pd.read_csv(url)\n",
        "dogecoin"
      ],
      "metadata": {
        "id": "qgcUDjUAvAyo"
      },
      "execution_count": null,
      "outputs": []
    },
    {
      "cell_type": "code",
      "source": [
        "url = 'https://github.com/Fernando-cfs/criptomoedas/raw/main/archive/coin_EOS.csv'\n",
        "eos = pd.read_csv(url)\n",
        "eos"
      ],
      "metadata": {
        "id": "FSwLzABMvB7h"
      },
      "execution_count": null,
      "outputs": []
    },
    {
      "cell_type": "code",
      "source": [
        "url = 'https://github.com/Fernando-cfs/criptomoedas/raw/main/archive/coin_Ethereum.csv'\n",
        "ethereum = pd.read_csv(url)\n",
        "ethereum"
      ],
      "metadata": {
        "id": "LNbMNvRuvCq7"
      },
      "execution_count": null,
      "outputs": []
    },
    {
      "cell_type": "markdown",
      "source": [
        "* Concatenando os 10 DataFrames em 1"
      ],
      "metadata": {
        "id": "mtfvx1BAybxM"
      }
    },
    {
      "cell_type": "code",
      "source": [
        "\n",
        "criptomoedas = pd.concat([aave, binance, bit, cardano, chain, cosmo, crypto, dogecoin, eos, ethereum], ignore_index=True)\n",
        "criptomoedas"
      ],
      "metadata": {
        "id": "3WLqda8XxymU"
      },
      "execution_count": null,
      "outputs": []
    },
    {
      "cell_type": "markdown",
      "source": [
        "- Abaixo vou renomear as colunas para facilitar a análise"
      ],
      "metadata": {
        "id": "4fHt9m1WQhSu"
      }
    },
    {
      "cell_type": "markdown",
      "source": [
        "* `Data:` data da observação\n",
        "* `Abertura:` preço de abertura\n",
        "* `Alto:` Preço mais alto\n",
        "* `Baixo:` Preço mais baixo\n",
        "* `Fechamento:` Preço de fechamento\n",
        "* `Volume:` Volume de transações\n",
        "* `Capitalização de mercado:` Capitalização de mercado em dólares americanos"
      ],
      "metadata": {
        "id": "rDFjsmyLdNEY"
      }
    },
    {
      "cell_type": "code",
      "source": [
        "mapeamento_colunas = {\n",
        "    'SNo': 'Número',\n",
        "    'Name': 'Nome',\n",
        "    'Symbol': 'Símbolo',\n",
        "    'Date': 'Data',\n",
        "    'High': 'Alto',\n",
        "    'Low': 'Baixo',\n",
        "    'Open': 'Abertura',\n",
        "    'Close': 'Fechamento',\n",
        "    'Volume': 'Volume',\n",
        "    'Marketcap': 'Capitalização de Mercado'\n",
        "}\n",
        "\n",
        "# Renomear as colunas\n",
        "criptomoedas = criptomoedas.rename(columns=mapeamento_colunas)\n",
        "\n",
        "criptomoedas\n",
        "\n",
        "\n",
        "\n",
        "\n",
        "\n"
      ],
      "metadata": {
        "id": "Nh4nfjz7Qz9b"
      },
      "execution_count": null,
      "outputs": []
    },
    {
      "cell_type": "code",
      "source": [
        "criptomoedas.info()"
      ],
      "metadata": {
        "colab": {
          "base_uri": "https://localhost:8080/"
        },
        "id": "5vdIxTNuvkbX",
        "outputId": "b3831a96-08a2-4784-f384-30a30c80c7c5"
      },
      "execution_count": null,
      "outputs": [
        {
          "output_type": "stream",
          "name": "stdout",
          "text": [
            "<class 'pandas.core.frame.DataFrame'>\n",
            "RangeIndex: 14084 entries, 0 to 14083\n",
            "Data columns (total 10 columns):\n",
            " #   Column                    Non-Null Count  Dtype         \n",
            "---  ------                    --------------  -----         \n",
            " 0   Número                    14084 non-null  int64         \n",
            " 1   Nome                      14084 non-null  object        \n",
            " 2   Símbolo                   14084 non-null  object        \n",
            " 3   Data                      14084 non-null  datetime64[ns]\n",
            " 4   Alto                      14084 non-null  float64       \n",
            " 5   Baixo                     14084 non-null  float64       \n",
            " 6   Abertura                  14084 non-null  float64       \n",
            " 7   Fechamento                14084 non-null  float64       \n",
            " 8   Volume                    14084 non-null  float64       \n",
            " 9   Capitalização de Mercado  14084 non-null  float64       \n",
            "dtypes: datetime64[ns](1), float64(6), int64(1), object(2)\n",
            "memory usage: 1.1+ MB\n"
          ]
        }
      ]
    },
    {
      "cell_type": "markdown",
      "source": [
        "* Tratando a coluna Data que esta como object para data"
      ],
      "metadata": {
        "id": "M8D2u5nLvPk1"
      }
    },
    {
      "cell_type": "code",
      "source": [
        "criptomoedas['Data'] = pd.to_datetime(criptomoedas['Data'])\n",
        "criptomoedas['Data'] = criptomoedas['Data'].dt.strftime('%d/%m/%y')\n",
        "criptomoedas\n"
      ],
      "metadata": {
        "colab": {
          "base_uri": "https://localhost:8080/",
          "height": 461
        },
        "id": "jQG7efh8vXHG",
        "outputId": "b18d0a53-3414-4fc0-e0b3-46e4f1689cf6"
      },
      "execution_count": null,
      "outputs": [
        {
          "output_type": "execute_result",
          "data": {
            "text/plain": [
              "       Número      Nome Símbolo      Data         Alto        Baixo  \\\n",
              "0           1      Aave    AAVE  05/10/20    55.112358    49.787900   \n",
              "1           2      Aave    AAVE  06/10/20    53.402270    40.734578   \n",
              "2           3      Aave    AAVE  07/10/20    42.408314    35.970690   \n",
              "3           4      Aave    AAVE  08/10/20    44.902511    36.696057   \n",
              "4           5      Aave    AAVE  09/10/20    47.569533    43.291776   \n",
              "...       ...       ...     ...       ...          ...          ...   \n",
              "14079    2156  Ethereum     ETH  02/07/21  2155.596496  2021.824808   \n",
              "14080    2157  Ethereum     ETH  03/07/21  2237.567155  2117.590013   \n",
              "14081    2158  Ethereum     ETH  04/07/21  2384.286857  2190.837703   \n",
              "14082    2159  Ethereum     ETH  05/07/21  2321.922836  2163.041394   \n",
              "14083    2160  Ethereum     ETH  06/07/21  2346.294874  2197.919385   \n",
              "\n",
              "          Abertura   Fechamento        Volume  Capitalização de Mercado  \n",
              "0        52.675035    53.219243  0.000000e+00              8.912813e+07  \n",
              "1        53.291969    42.401599  5.830915e+05              7.101144e+07  \n",
              "2        42.399947    40.083976  6.828342e+05              6.713004e+07  \n",
              "3        39.885262    43.764463  1.658817e+06              2.202651e+08  \n",
              "4        43.764463    46.817744  8.155377e+05              2.356322e+08  \n",
              "...            ...          ...           ...                       ...  \n",
              "14079  2109.892677  2150.040364  3.179621e+10              2.505527e+11  \n",
              "14080  2150.835025  2226.114282  1.743336e+10              2.594475e+11  \n",
              "14081  2226.550382  2321.724112  1.878711e+10              2.706217e+11  \n",
              "14082  2321.922836  2198.582464  2.010379e+10              2.562978e+11  \n",
              "14083  2197.919385  2324.679449  2.089186e+10              2.710286e+11  \n",
              "\n",
              "[14084 rows x 10 columns]"
            ],
            "text/html": [
              "\n",
              "  <div id=\"df-4b86c178-ae64-4f9b-9e0a-5c14f509a465\" class=\"colab-df-container\">\n",
              "    <div>\n",
              "<style scoped>\n",
              "    .dataframe tbody tr th:only-of-type {\n",
              "        vertical-align: middle;\n",
              "    }\n",
              "\n",
              "    .dataframe tbody tr th {\n",
              "        vertical-align: top;\n",
              "    }\n",
              "\n",
              "    .dataframe thead th {\n",
              "        text-align: right;\n",
              "    }\n",
              "</style>\n",
              "<table border=\"1\" class=\"dataframe\">\n",
              "  <thead>\n",
              "    <tr style=\"text-align: right;\">\n",
              "      <th></th>\n",
              "      <th>Número</th>\n",
              "      <th>Nome</th>\n",
              "      <th>Símbolo</th>\n",
              "      <th>Data</th>\n",
              "      <th>Alto</th>\n",
              "      <th>Baixo</th>\n",
              "      <th>Abertura</th>\n",
              "      <th>Fechamento</th>\n",
              "      <th>Volume</th>\n",
              "      <th>Capitalização de Mercado</th>\n",
              "    </tr>\n",
              "  </thead>\n",
              "  <tbody>\n",
              "    <tr>\n",
              "      <th>0</th>\n",
              "      <td>1</td>\n",
              "      <td>Aave</td>\n",
              "      <td>AAVE</td>\n",
              "      <td>05/10/20</td>\n",
              "      <td>55.112358</td>\n",
              "      <td>49.787900</td>\n",
              "      <td>52.675035</td>\n",
              "      <td>53.219243</td>\n",
              "      <td>0.000000e+00</td>\n",
              "      <td>8.912813e+07</td>\n",
              "    </tr>\n",
              "    <tr>\n",
              "      <th>1</th>\n",
              "      <td>2</td>\n",
              "      <td>Aave</td>\n",
              "      <td>AAVE</td>\n",
              "      <td>06/10/20</td>\n",
              "      <td>53.402270</td>\n",
              "      <td>40.734578</td>\n",
              "      <td>53.291969</td>\n",
              "      <td>42.401599</td>\n",
              "      <td>5.830915e+05</td>\n",
              "      <td>7.101144e+07</td>\n",
              "    </tr>\n",
              "    <tr>\n",
              "      <th>2</th>\n",
              "      <td>3</td>\n",
              "      <td>Aave</td>\n",
              "      <td>AAVE</td>\n",
              "      <td>07/10/20</td>\n",
              "      <td>42.408314</td>\n",
              "      <td>35.970690</td>\n",
              "      <td>42.399947</td>\n",
              "      <td>40.083976</td>\n",
              "      <td>6.828342e+05</td>\n",
              "      <td>6.713004e+07</td>\n",
              "    </tr>\n",
              "    <tr>\n",
              "      <th>3</th>\n",
              "      <td>4</td>\n",
              "      <td>Aave</td>\n",
              "      <td>AAVE</td>\n",
              "      <td>08/10/20</td>\n",
              "      <td>44.902511</td>\n",
              "      <td>36.696057</td>\n",
              "      <td>39.885262</td>\n",
              "      <td>43.764463</td>\n",
              "      <td>1.658817e+06</td>\n",
              "      <td>2.202651e+08</td>\n",
              "    </tr>\n",
              "    <tr>\n",
              "      <th>4</th>\n",
              "      <td>5</td>\n",
              "      <td>Aave</td>\n",
              "      <td>AAVE</td>\n",
              "      <td>09/10/20</td>\n",
              "      <td>47.569533</td>\n",
              "      <td>43.291776</td>\n",
              "      <td>43.764463</td>\n",
              "      <td>46.817744</td>\n",
              "      <td>8.155377e+05</td>\n",
              "      <td>2.356322e+08</td>\n",
              "    </tr>\n",
              "    <tr>\n",
              "      <th>...</th>\n",
              "      <td>...</td>\n",
              "      <td>...</td>\n",
              "      <td>...</td>\n",
              "      <td>...</td>\n",
              "      <td>...</td>\n",
              "      <td>...</td>\n",
              "      <td>...</td>\n",
              "      <td>...</td>\n",
              "      <td>...</td>\n",
              "      <td>...</td>\n",
              "    </tr>\n",
              "    <tr>\n",
              "      <th>14079</th>\n",
              "      <td>2156</td>\n",
              "      <td>Ethereum</td>\n",
              "      <td>ETH</td>\n",
              "      <td>02/07/21</td>\n",
              "      <td>2155.596496</td>\n",
              "      <td>2021.824808</td>\n",
              "      <td>2109.892677</td>\n",
              "      <td>2150.040364</td>\n",
              "      <td>3.179621e+10</td>\n",
              "      <td>2.505527e+11</td>\n",
              "    </tr>\n",
              "    <tr>\n",
              "      <th>14080</th>\n",
              "      <td>2157</td>\n",
              "      <td>Ethereum</td>\n",
              "      <td>ETH</td>\n",
              "      <td>03/07/21</td>\n",
              "      <td>2237.567155</td>\n",
              "      <td>2117.590013</td>\n",
              "      <td>2150.835025</td>\n",
              "      <td>2226.114282</td>\n",
              "      <td>1.743336e+10</td>\n",
              "      <td>2.594475e+11</td>\n",
              "    </tr>\n",
              "    <tr>\n",
              "      <th>14081</th>\n",
              "      <td>2158</td>\n",
              "      <td>Ethereum</td>\n",
              "      <td>ETH</td>\n",
              "      <td>04/07/21</td>\n",
              "      <td>2384.286857</td>\n",
              "      <td>2190.837703</td>\n",
              "      <td>2226.550382</td>\n",
              "      <td>2321.724112</td>\n",
              "      <td>1.878711e+10</td>\n",
              "      <td>2.706217e+11</td>\n",
              "    </tr>\n",
              "    <tr>\n",
              "      <th>14082</th>\n",
              "      <td>2159</td>\n",
              "      <td>Ethereum</td>\n",
              "      <td>ETH</td>\n",
              "      <td>05/07/21</td>\n",
              "      <td>2321.922836</td>\n",
              "      <td>2163.041394</td>\n",
              "      <td>2321.922836</td>\n",
              "      <td>2198.582464</td>\n",
              "      <td>2.010379e+10</td>\n",
              "      <td>2.562978e+11</td>\n",
              "    </tr>\n",
              "    <tr>\n",
              "      <th>14083</th>\n",
              "      <td>2160</td>\n",
              "      <td>Ethereum</td>\n",
              "      <td>ETH</td>\n",
              "      <td>06/07/21</td>\n",
              "      <td>2346.294874</td>\n",
              "      <td>2197.919385</td>\n",
              "      <td>2197.919385</td>\n",
              "      <td>2324.679449</td>\n",
              "      <td>2.089186e+10</td>\n",
              "      <td>2.710286e+11</td>\n",
              "    </tr>\n",
              "  </tbody>\n",
              "</table>\n",
              "<p>14084 rows × 10 columns</p>\n",
              "</div>\n",
              "    <div class=\"colab-df-buttons\">\n",
              "\n",
              "  <div class=\"colab-df-container\">\n",
              "    <button class=\"colab-df-convert\" onclick=\"convertToInteractive('df-4b86c178-ae64-4f9b-9e0a-5c14f509a465')\"\n",
              "            title=\"Convert this dataframe to an interactive table.\"\n",
              "            style=\"display:none;\">\n",
              "\n",
              "  <svg xmlns=\"http://www.w3.org/2000/svg\" height=\"24px\" viewBox=\"0 -960 960 960\">\n",
              "    <path d=\"M120-120v-720h720v720H120Zm60-500h600v-160H180v160Zm220 220h160v-160H400v160Zm0 220h160v-160H400v160ZM180-400h160v-160H180v160Zm440 0h160v-160H620v160ZM180-180h160v-160H180v160Zm440 0h160v-160H620v160Z\"/>\n",
              "  </svg>\n",
              "    </button>\n",
              "\n",
              "  <style>\n",
              "    .colab-df-container {\n",
              "      display:flex;\n",
              "      gap: 12px;\n",
              "    }\n",
              "\n",
              "    .colab-df-convert {\n",
              "      background-color: #E8F0FE;\n",
              "      border: none;\n",
              "      border-radius: 50%;\n",
              "      cursor: pointer;\n",
              "      display: none;\n",
              "      fill: #1967D2;\n",
              "      height: 32px;\n",
              "      padding: 0 0 0 0;\n",
              "      width: 32px;\n",
              "    }\n",
              "\n",
              "    .colab-df-convert:hover {\n",
              "      background-color: #E2EBFA;\n",
              "      box-shadow: 0px 1px 2px rgba(60, 64, 67, 0.3), 0px 1px 3px 1px rgba(60, 64, 67, 0.15);\n",
              "      fill: #174EA6;\n",
              "    }\n",
              "\n",
              "    .colab-df-buttons div {\n",
              "      margin-bottom: 4px;\n",
              "    }\n",
              "\n",
              "    [theme=dark] .colab-df-convert {\n",
              "      background-color: #3B4455;\n",
              "      fill: #D2E3FC;\n",
              "    }\n",
              "\n",
              "    [theme=dark] .colab-df-convert:hover {\n",
              "      background-color: #434B5C;\n",
              "      box-shadow: 0px 1px 3px 1px rgba(0, 0, 0, 0.15);\n",
              "      filter: drop-shadow(0px 1px 2px rgba(0, 0, 0, 0.3));\n",
              "      fill: #FFFFFF;\n",
              "    }\n",
              "  </style>\n",
              "\n",
              "    <script>\n",
              "      const buttonEl =\n",
              "        document.querySelector('#df-4b86c178-ae64-4f9b-9e0a-5c14f509a465 button.colab-df-convert');\n",
              "      buttonEl.style.display =\n",
              "        google.colab.kernel.accessAllowed ? 'block' : 'none';\n",
              "\n",
              "      async function convertToInteractive(key) {\n",
              "        const element = document.querySelector('#df-4b86c178-ae64-4f9b-9e0a-5c14f509a465');\n",
              "        const dataTable =\n",
              "          await google.colab.kernel.invokeFunction('convertToInteractive',\n",
              "                                                    [key], {});\n",
              "        if (!dataTable) return;\n",
              "\n",
              "        const docLinkHtml = 'Like what you see? Visit the ' +\n",
              "          '<a target=\"_blank\" href=https://colab.research.google.com/notebooks/data_table.ipynb>data table notebook</a>'\n",
              "          + ' to learn more about interactive tables.';\n",
              "        element.innerHTML = '';\n",
              "        dataTable['output_type'] = 'display_data';\n",
              "        await google.colab.output.renderOutput(dataTable, element);\n",
              "        const docLink = document.createElement('div');\n",
              "        docLink.innerHTML = docLinkHtml;\n",
              "        element.appendChild(docLink);\n",
              "      }\n",
              "    </script>\n",
              "  </div>\n",
              "\n",
              "\n",
              "<div id=\"df-5c673443-ae9f-4b45-a90c-2620b66bbcc9\">\n",
              "  <button class=\"colab-df-quickchart\" onclick=\"quickchart('df-5c673443-ae9f-4b45-a90c-2620b66bbcc9')\"\n",
              "            title=\"Suggest charts.\"\n",
              "            style=\"display:none;\">\n",
              "\n",
              "<svg xmlns=\"http://www.w3.org/2000/svg\" height=\"24px\"viewBox=\"0 0 24 24\"\n",
              "     width=\"24px\">\n",
              "    <g>\n",
              "        <path d=\"M19 3H5c-1.1 0-2 .9-2 2v14c0 1.1.9 2 2 2h14c1.1 0 2-.9 2-2V5c0-1.1-.9-2-2-2zM9 17H7v-7h2v7zm4 0h-2V7h2v10zm4 0h-2v-4h2v4z\"/>\n",
              "    </g>\n",
              "</svg>\n",
              "  </button>\n",
              "\n",
              "<style>\n",
              "  .colab-df-quickchart {\n",
              "      --bg-color: #E8F0FE;\n",
              "      --fill-color: #1967D2;\n",
              "      --hover-bg-color: #E2EBFA;\n",
              "      --hover-fill-color: #174EA6;\n",
              "      --disabled-fill-color: #AAA;\n",
              "      --disabled-bg-color: #DDD;\n",
              "  }\n",
              "\n",
              "  [theme=dark] .colab-df-quickchart {\n",
              "      --bg-color: #3B4455;\n",
              "      --fill-color: #D2E3FC;\n",
              "      --hover-bg-color: #434B5C;\n",
              "      --hover-fill-color: #FFFFFF;\n",
              "      --disabled-bg-color: #3B4455;\n",
              "      --disabled-fill-color: #666;\n",
              "  }\n",
              "\n",
              "  .colab-df-quickchart {\n",
              "    background-color: var(--bg-color);\n",
              "    border: none;\n",
              "    border-radius: 50%;\n",
              "    cursor: pointer;\n",
              "    display: none;\n",
              "    fill: var(--fill-color);\n",
              "    height: 32px;\n",
              "    padding: 0;\n",
              "    width: 32px;\n",
              "  }\n",
              "\n",
              "  .colab-df-quickchart:hover {\n",
              "    background-color: var(--hover-bg-color);\n",
              "    box-shadow: 0 1px 2px rgba(60, 64, 67, 0.3), 0 1px 3px 1px rgba(60, 64, 67, 0.15);\n",
              "    fill: var(--button-hover-fill-color);\n",
              "  }\n",
              "\n",
              "  .colab-df-quickchart-complete:disabled,\n",
              "  .colab-df-quickchart-complete:disabled:hover {\n",
              "    background-color: var(--disabled-bg-color);\n",
              "    fill: var(--disabled-fill-color);\n",
              "    box-shadow: none;\n",
              "  }\n",
              "\n",
              "  .colab-df-spinner {\n",
              "    border: 2px solid var(--fill-color);\n",
              "    border-color: transparent;\n",
              "    border-bottom-color: var(--fill-color);\n",
              "    animation:\n",
              "      spin 1s steps(1) infinite;\n",
              "  }\n",
              "\n",
              "  @keyframes spin {\n",
              "    0% {\n",
              "      border-color: transparent;\n",
              "      border-bottom-color: var(--fill-color);\n",
              "      border-left-color: var(--fill-color);\n",
              "    }\n",
              "    20% {\n",
              "      border-color: transparent;\n",
              "      border-left-color: var(--fill-color);\n",
              "      border-top-color: var(--fill-color);\n",
              "    }\n",
              "    30% {\n",
              "      border-color: transparent;\n",
              "      border-left-color: var(--fill-color);\n",
              "      border-top-color: var(--fill-color);\n",
              "      border-right-color: var(--fill-color);\n",
              "    }\n",
              "    40% {\n",
              "      border-color: transparent;\n",
              "      border-right-color: var(--fill-color);\n",
              "      border-top-color: var(--fill-color);\n",
              "    }\n",
              "    60% {\n",
              "      border-color: transparent;\n",
              "      border-right-color: var(--fill-color);\n",
              "    }\n",
              "    80% {\n",
              "      border-color: transparent;\n",
              "      border-right-color: var(--fill-color);\n",
              "      border-bottom-color: var(--fill-color);\n",
              "    }\n",
              "    90% {\n",
              "      border-color: transparent;\n",
              "      border-bottom-color: var(--fill-color);\n",
              "    }\n",
              "  }\n",
              "</style>\n",
              "\n",
              "  <script>\n",
              "    async function quickchart(key) {\n",
              "      const quickchartButtonEl =\n",
              "        document.querySelector('#' + key + ' button');\n",
              "      quickchartButtonEl.disabled = true;  // To prevent multiple clicks.\n",
              "      quickchartButtonEl.classList.add('colab-df-spinner');\n",
              "      try {\n",
              "        const charts = await google.colab.kernel.invokeFunction(\n",
              "            'suggestCharts', [key], {});\n",
              "      } catch (error) {\n",
              "        console.error('Error during call to suggestCharts:', error);\n",
              "      }\n",
              "      quickchartButtonEl.classList.remove('colab-df-spinner');\n",
              "      quickchartButtonEl.classList.add('colab-df-quickchart-complete');\n",
              "    }\n",
              "    (() => {\n",
              "      let quickchartButtonEl =\n",
              "        document.querySelector('#df-5c673443-ae9f-4b45-a90c-2620b66bbcc9 button');\n",
              "      quickchartButtonEl.style.display =\n",
              "        google.colab.kernel.accessAllowed ? 'block' : 'none';\n",
              "    })();\n",
              "  </script>\n",
              "</div>\n",
              "    </div>\n",
              "  </div>\n"
            ]
          },
          "metadata": {},
          "execution_count": 39
        }
      ]
    }
  ]
}